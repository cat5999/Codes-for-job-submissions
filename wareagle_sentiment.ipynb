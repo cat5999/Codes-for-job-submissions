{
 "cells": [
  {
   "cell_type": "markdown",
   "metadata": {},
   "source": [
    "# Making sentiment predictions over tweets dataset\n",
    "\n",
    "## Predictions\n",
    "The purpose of this analysis is to make up a prediction model where we will be able to predict whether a tweet is positive or negative. In this analysis, we will not focus on the Score, but only the positive/negative sentiment of the recommendation. \n",
    "\n",
    "To do so, we will work on Amazon's recommendation dataset, we will build a Term-doc incidence matrix using term frequency and inverse document frequency ponderation. When the data is ready, we will load it into predicitve algorithms, mainly naïve Bayesian and regression"
   ]
  },
  {
   "cell_type": "code",
   "execution_count": null,
   "metadata": {},
   "outputs": [],
   "source": []
  },
  {
   "cell_type": "code",
   "execution_count": 4,
   "metadata": {},
   "outputs": [
    {
     "name": "stdout",
     "output_type": "stream",
     "text": [
      "<class 'pandas.core.frame.DataFrame'>\n",
      "RangeIndex: 4763 entries, 0 to 4762\n",
      "Data columns (total 3 columns):\n",
      "Id          4649 non-null float64\n",
      "Summary     4763 non-null object\n",
      "Positive    4763 non-null int64\n",
      "dtypes: float64(1), int64(1), object(1)\n",
      "memory usage: 111.8+ KB\n",
      "None\n"
     ]
    },
    {
     "name": "stderr",
     "output_type": "stream",
     "text": [
      "[nltk_data] Downloading package punkt to\n",
      "[nltk_data]     /Users/catherinecirigliano/nltk_data...\n",
      "[nltk_data]   Package punkt is already up-to-date!\n"
     ]
    },
    {
     "data": {
      "text/html": [
       "<div>\n",
       "<style scoped>\n",
       "    .dataframe tbody tr th:only-of-type {\n",
       "        vertical-align: middle;\n",
       "    }\n",
       "\n",
       "    .dataframe tbody tr th {\n",
       "        vertical-align: top;\n",
       "    }\n",
       "\n",
       "    .dataframe thead th {\n",
       "        text-align: right;\n",
       "    }\n",
       "</style>\n",
       "<table border=\"1\" class=\"dataframe\">\n",
       "  <thead>\n",
       "    <tr style=\"text-align: right;\">\n",
       "      <th></th>\n",
       "      <th>Id</th>\n",
       "      <th>Summary</th>\n",
       "      <th>Positive</th>\n",
       "    </tr>\n",
       "  </thead>\n",
       "  <tbody>\n",
       "    <tr>\n",
       "      <td>0</td>\n",
       "      <td>1.0</td>\n",
       "      <td>Unacceptable Dog Food</td>\n",
       "      <td>0</td>\n",
       "    </tr>\n",
       "    <tr>\n",
       "      <td>1</td>\n",
       "      <td>2.0</td>\n",
       "      <td>Not as Advertised</td>\n",
       "      <td>0</td>\n",
       "    </tr>\n",
       "    <tr>\n",
       "      <td>2</td>\n",
       "      <td>3.0</td>\n",
       "      <td>\"Delight\" says it all</td>\n",
       "      <td>1</td>\n",
       "    </tr>\n",
       "    <tr>\n",
       "      <td>3</td>\n",
       "      <td>4.0</td>\n",
       "      <td>Cough Medicine</td>\n",
       "      <td>0</td>\n",
       "    </tr>\n",
       "    <tr>\n",
       "      <td>4</td>\n",
       "      <td>5.0</td>\n",
       "      <td>Great taffy</td>\n",
       "      <td>1</td>\n",
       "    </tr>\n",
       "  </tbody>\n",
       "</table>\n",
       "</div>"
      ],
      "text/plain": [
       "    Id                Summary  Positive\n",
       "0  1.0  Unacceptable Dog Food         0\n",
       "1  2.0      Not as Advertised         0\n",
       "2  3.0  \"Delight\" says it all         1\n",
       "3  4.0         Cough Medicine         0\n",
       "4  5.0            Great taffy         1"
      ]
     },
     "execution_count": 4,
     "metadata": {},
     "output_type": "execute_result"
    }
   ],
   "source": [
    "%matplotlib inline\n",
    "\n",
    "import pandas as pd\n",
    "import numpy as np\n",
    "import nltk\n",
    "\n",
    "nltk.download('punkt')\n",
    "\n",
    "import string\n",
    "import matplotlib.pyplot as plt\n",
    "import numpy as np\n",
    "from sklearn.metrics import confusion_matrix, classification_report, roc_auc_score, accuracy_score\n",
    "from sklearn.feature_extraction.text import TfidfTransformer\n",
    "from sklearn.feature_extraction.text import CountVectorizer\n",
    "from sklearn.model_selection import train_test_split\n",
    "from sklearn import metrics\n",
    "from sklearn.metrics import roc_curve, auc\n",
    "from nltk.stem.porter import PorterStemmer\n",
    "\n",
    "# con = sqlite3.connect('../input/database.sqlite')\n",
    "# messages = pd.read_sql_query(\"\"\"SELECT Score, Summary FROM Reviews WHERE Score != 3\"\"\", con)\n",
    "\n",
    "reviews = pd.read_csv('reviews_sent.csv', encoding = 'latin')\n",
    "print(reviews.info())\n",
    "reviews.head()"
   ]
  },
  {
   "cell_type": "code",
   "execution_count": 5,
   "metadata": {},
   "outputs": [],
   "source": [
    "# Task 1: each student creates two rows of training data\n",
    "\n",
    "\n",
    "\n",
    "\n"
   ]
  },
  {
   "cell_type": "code",
   "execution_count": 6,
   "metadata": {},
   "outputs": [],
   "source": [
    "y = reviews['Positive']\n",
    "X = reviews['Summary']\n",
    "\n",
    "X_train, X_test, y_train, y_test = train_test_split(X, y, test_size=0.2, random_state=42)"
   ]
  },
  {
   "cell_type": "markdown",
   "metadata": {},
   "source": [
    "## Cleaning the data and convert text info to counts\n",
    "\n",
    "To format our data and build the Term-doc incidence matrix, many operations will be performed on the data :\n",
    "- Stemming\n",
    "- Stop words removal\n",
    "- Lowering\n",
    "- Tokenization\n",
    "- Pruning (numbers and punctuation)"
   ]
  },
  {
   "cell_type": "code",
   "execution_count": 7,
   "metadata": {},
   "outputs": [],
   "source": [
    "#convert all the text info to numbers\n",
    "stemmer = PorterStemmer()\n",
    "count_vect = CountVectorizer()\n",
    "\n",
    "from nltk.corpus import stopwords\n",
    "\n",
    "def stem_tokens(tokens, stemmer):\n",
    "    stemmed = []\n",
    "    for item in tokens:\n",
    "        stemmed.append(stemmer.stem(item))\n",
    "    return stemmed\n",
    "\n",
    "def tokenize(text):\n",
    "    tokens = nltk.word_tokenize(text)   # Resource 'tokenizers/punkt/english.pickle' not found\n",
    "    stems = stem_tokens(tokens, stemmer)\n",
    "    return ' '.join(stems)\n",
    "\n",
    "# replace each punctuation with a space\n",
    "intab = string.punctuation\n",
    "outtab = \"                                \"\n",
    "trantab = str.maketrans(intab, outtab)\n",
    "\n",
    "#--- Training set\n",
    "corpus = []\n",
    "for text in X_train:\n",
    "    text = str(text)\n",
    "    text = text.lower()\n",
    "    text = text.translate(trantab)\n",
    "    text=tokenize(text)\n",
    "    corpus.append(text)\n",
    "    \n",
    "X_train_counts = count_vect.fit_transform(corpus)        \n",
    "tfidf_transformer = TfidfTransformer()\n",
    "X_train_tfidf = tfidf_transformer.fit_transform(X_train_counts)\n",
    "\n",
    "#--- Test set\n",
    "test_set = []\n",
    "for text in X_test:\n",
    "    text = str(text)\n",
    "    text = text.lower()\n",
    "    text = text.translate(trantab)\n",
    "    text=tokenize(text)\n",
    "    test_set.append(text)\n",
    "\n",
    "X_new_counts = count_vect.transform(test_set)\n",
    "X_test_tfidf = tfidf_transformer.transform(X_new_counts)"
   ]
  },
  {
   "cell_type": "code",
   "execution_count": 8,
   "metadata": {},
   "outputs": [],
   "source": [
    "#creating a blank dictionary to save predictions\n",
    "prediction = dict()"
   ]
  },
  {
   "cell_type": "markdown",
   "metadata": {},
   "source": [
    "## Applying Multinomial Naïve Bayes learning method"
   ]
  },
  {
   "cell_type": "code",
   "execution_count": 9,
   "metadata": {},
   "outputs": [],
   "source": [
    "from sklearn.naive_bayes import MultinomialNB\n",
    "multi = MultinomialNB().fit(X_train_tfidf, y_train)\n",
    "prediction['Multinomial'] = multi.predict(X_test_tfidf)"
   ]
  },
  {
   "cell_type": "markdown",
   "metadata": {},
   "source": [
    "<h2> Applying Decision Tree learning method</h2>"
   ]
  },
  {
   "cell_type": "code",
   "execution_count": 10,
   "metadata": {},
   "outputs": [],
   "source": [
    "from sklearn.tree import DecisionTreeClassifier\n",
    "clt = DecisionTreeClassifier()\n",
    "clt.fit(X_train_tfidf, y_train)\n",
    "prediction['clt'] = clt.predict(X_test_tfidf)"
   ]
  },
  {
   "cell_type": "markdown",
   "metadata": {},
   "source": [
    "## Applying Logistic regression learning method"
   ]
  },
  {
   "cell_type": "code",
   "execution_count": 11,
   "metadata": {},
   "outputs": [
    {
     "name": "stderr",
     "output_type": "stream",
     "text": [
      "/anaconda3/lib/python3.6/site-packages/sklearn/linear_model/logistic.py:432: FutureWarning: Default solver will be changed to 'lbfgs' in 0.22. Specify a solver to silence this warning.\n",
      "  FutureWarning)\n"
     ]
    }
   ],
   "source": [
    "from sklearn import linear_model\n",
    "logreg = linear_model.LogisticRegression(C=1e5)\n",
    "logreg.fit(X_train_tfidf, y_train)\n",
    "prediction['Logistic'] = logreg.predict(X_test_tfidf)"
   ]
  },
  {
   "cell_type": "markdown",
   "metadata": {},
   "source": [
    "## Applying Support Vector Model"
   ]
  },
  {
   "cell_type": "code",
   "execution_count": 12,
   "metadata": {},
   "outputs": [],
   "source": [
    "# Task 2: build a support vector model\n",
    "from sklearn.svm import SVC, LinearSVC\n",
    "svc = SVC(C= 1.0, kernel='linear')\n",
    "svc.fit(X_train_tfidf, y_train)\n",
    "prediction['svc'] = svc.predict(X_test_tfidf)\n",
    "\n",
    "\n",
    "\n"
   ]
  },
  {
   "cell_type": "markdown",
   "metadata": {},
   "source": [
    "## Applying Random Forest\n"
   ]
  },
  {
   "cell_type": "code",
   "execution_count": 13,
   "metadata": {},
   "outputs": [
    {
     "name": "stderr",
     "output_type": "stream",
     "text": [
      "/anaconda3/lib/python3.6/site-packages/sklearn/ensemble/forest.py:245: FutureWarning: The default value of n_estimators will change from 10 in version 0.20 to 100 in 0.22.\n",
      "  \"10 in version 0.20 to 100 in 0.22.\", FutureWarning)\n",
      "/anaconda3/lib/python3.6/site-packages/sklearn/ensemble/forest.py:245: FutureWarning: The default value of n_estimators will change from 10 in version 0.20 to 100 in 0.22.\n",
      "  \"10 in version 0.20 to 100 in 0.22.\", FutureWarning)\n",
      "/anaconda3/lib/python3.6/site-packages/sklearn/ensemble/forest.py:245: FutureWarning: The default value of n_estimators will change from 10 in version 0.20 to 100 in 0.22.\n",
      "  \"10 in version 0.20 to 100 in 0.22.\", FutureWarning)\n"
     ]
    },
    {
     "name": "stdout",
     "output_type": "stream",
     "text": [
      "Accuracy for 1 feature(s) equals 0.8845750262329486\n",
      "Accuracy for 2 feature(s) equals 0.8824763903462749\n",
      "Accuracy for 3 feature(s) equals 0.8719832109129066\n"
     ]
    },
    {
     "name": "stderr",
     "output_type": "stream",
     "text": [
      "/anaconda3/lib/python3.6/site-packages/sklearn/ensemble/forest.py:245: FutureWarning: The default value of n_estimators will change from 10 in version 0.20 to 100 in 0.22.\n",
      "  \"10 in version 0.20 to 100 in 0.22.\", FutureWarning)\n",
      "/anaconda3/lib/python3.6/site-packages/sklearn/ensemble/forest.py:245: FutureWarning: The default value of n_estimators will change from 10 in version 0.20 to 100 in 0.22.\n",
      "  \"10 in version 0.20 to 100 in 0.22.\", FutureWarning)\n",
      "/anaconda3/lib/python3.6/site-packages/sklearn/ensemble/forest.py:245: FutureWarning: The default value of n_estimators will change from 10 in version 0.20 to 100 in 0.22.\n",
      "  \"10 in version 0.20 to 100 in 0.22.\", FutureWarning)\n"
     ]
    },
    {
     "name": "stdout",
     "output_type": "stream",
     "text": [
      "Accuracy for 4 feature(s) equals 0.8751311647429171\n",
      "Accuracy for 5 feature(s) equals 0.8761804826862539\n",
      "Accuracy for 6 feature(s) equals 0.8751311647429171\n"
     ]
    },
    {
     "name": "stderr",
     "output_type": "stream",
     "text": [
      "/anaconda3/lib/python3.6/site-packages/sklearn/ensemble/forest.py:245: FutureWarning: The default value of n_estimators will change from 10 in version 0.20 to 100 in 0.22.\n",
      "  \"10 in version 0.20 to 100 in 0.22.\", FutureWarning)\n",
      "/anaconda3/lib/python3.6/site-packages/sklearn/ensemble/forest.py:245: FutureWarning: The default value of n_estimators will change from 10 in version 0.20 to 100 in 0.22.\n",
      "  \"10 in version 0.20 to 100 in 0.22.\", FutureWarning)\n",
      "/anaconda3/lib/python3.6/site-packages/sklearn/ensemble/forest.py:245: FutureWarning: The default value of n_estimators will change from 10 in version 0.20 to 100 in 0.22.\n",
      "  \"10 in version 0.20 to 100 in 0.22.\", FutureWarning)\n"
     ]
    },
    {
     "name": "stdout",
     "output_type": "stream",
     "text": [
      "Accuracy for 7 feature(s) equals 0.8614900314795383\n",
      "Accuracy for 8 feature(s) equals 0.8709338929695698\n",
      "Accuracy for 9 feature(s) equals 0.881427072402938\n",
      "Accuracy for 10 feature(s) equals 0.8887722980062959\n"
     ]
    },
    {
     "name": "stderr",
     "output_type": "stream",
     "text": [
      "/anaconda3/lib/python3.6/site-packages/sklearn/ensemble/forest.py:245: FutureWarning: The default value of n_estimators will change from 10 in version 0.20 to 100 in 0.22.\n",
      "  \"10 in version 0.20 to 100 in 0.22.\", FutureWarning)\n"
     ]
    }
   ],
   "source": [
    "# Task 3: run several random forest models and select the best one\n",
    "from sklearn.ensemble import RandomForestClassifier\n",
    "\n",
    "for i in range(1, 11):\n",
    "    rfc2 = RandomForestClassifier(max_features=i, random_state=1)\n",
    "    rfc2.fit(X_train_tfidf, y_train)\n",
    "    pred2 = rfc2.predict(X_test_tfidf)\n",
    "    print(\"Accuracy for %s feature(s) equals %s\" %(i, accuracy_score(y_test, pred2)))\n",
    "\n",
    "\n"
   ]
  },
  {
   "cell_type": "code",
   "execution_count": 14,
   "metadata": {},
   "outputs": [
    {
     "name": "stderr",
     "output_type": "stream",
     "text": [
      "/anaconda3/lib/python3.6/site-packages/sklearn/ensemble/forest.py:245: FutureWarning: The default value of n_estimators will change from 10 in version 0.20 to 100 in 0.22.\n",
      "  \"10 in version 0.20 to 100 in 0.22.\", FutureWarning)\n"
     ]
    }
   ],
   "source": [
    "    rfc3 = RandomForestClassifier(max_features=3, random_state=1)\n",
    "    rfc3.fit(X_train_tfidf, y_train)\n",
    "    prediction['rfc3'] = rfc2.predict(X_test_tfidf)\n",
    "    "
   ]
  },
  {
   "cell_type": "markdown",
   "metadata": {},
   "source": [
    "## Model Evaluation\n",
    "\n",
    "In order to compare our learning algorithms, let's build the ROC curve. The curve with the highest AUC value will show our \"best\" algorithm.\n",
    "\n",
    "In first data cleaning, stop-words removal has been used, but the results were much worse. Reason for this result could be that when people want to speak about what is or is not good, they use many small words like \"not\" for instance, and these words will typically be tagged as stop-words, and will be removed. This is why in the end, it was decided to keep the stop-words. For those who would like to try it by themselves, I have let the stop-words removal as a comment in the cleaning part of the analysis."
   ]
  },
  {
   "cell_type": "code",
   "execution_count": 15,
   "metadata": {},
   "outputs": [
    {
     "name": "stdout",
     "output_type": "stream",
     "text": [
      "Model evaluation for Tree Model:\n",
      "[[112  51]\n",
      " [111 679]]\n",
      "Accuracy = 0.8300104931794333\n",
      "Sensitivity = 0.859493670886076\n",
      "Specificity = 0.6871165644171779\n",
      "              precision    recall  f1-score   support\n",
      "\n",
      "           0       0.50      0.69      0.58       163\n",
      "           1       0.93      0.86      0.89       790\n",
      "\n",
      "    accuracy                           0.83       953\n",
      "   macro avg       0.72      0.77      0.74       953\n",
      "weighted avg       0.86      0.83      0.84       953\n",
      "\n",
      "Model evaluation for Rf Model:\n",
      "[[112  51]\n",
      " [111 679]]\n",
      "Accuracy = 0.8300104931794333\n",
      "Sensitivity = 0.859493670886076\n",
      "Specificity = 0.6871165644171779\n",
      "              precision    recall  f1-score   support\n",
      "\n",
      "           0       0.50      0.69      0.58       163\n",
      "           1       0.93      0.86      0.89       790\n",
      "\n",
      "    accuracy                           0.83       953\n",
      "   macro avg       0.72      0.77      0.74       953\n",
      "weighted avg       0.86      0.83      0.84       953\n",
      "\n"
     ]
    }
   ],
   "source": [
    "# Tree model evaluation\n",
    "y_pred_tree = clt.predict(X_test_tfidf)\n",
    "print(\"Model evaluation for Tree Model:\")\n",
    "print(confusion_matrix(y_test, y_pred_tree))\n",
    "tn, fp, fn, tp = confusion_matrix(y_test, y_pred_tree).ravel()\n",
    "# model evaluation 2: Accuracy, sensitivity & specificty\n",
    "print(\"Accuracy = %s\" %((tp+tn)/(tp+fn+tn+fp)))\n",
    "print(\"Sensitivity = %s\" %(tp/(tp+fn)))\n",
    "print(\"Specificity = %s\" %(tn/(tn+fp)))\n",
    "\n",
    "# model evaluation 3: precision & recall & F1_score\n",
    "print(classification_report(y_test, y_pred_tree))\n",
    "\n",
    "\n",
    "\n",
    "\n",
    "\n",
    "# Task 4: add evaluation for Random forest\n",
    "# RFC model evaluation\n",
    "y_pred_rf = clt.predict(X_test_tfidf)\n",
    "print(\"Model evaluation for Rf Model:\")\n",
    "print(confusion_matrix(y_test, y_pred_rf))\n",
    "tn, fp, fn, tp = confusion_matrix(y_test, y_pred_rf).ravel()\n",
    "# model evaluation 2: Accuracy, sensitivity & specificty\n",
    "print(\"Accuracy = %s\" %((tp+tn)/(tp+fn+tn+fp)))\n",
    "print(\"Sensitivity = %s\" %(tp/(tp+fn)))\n",
    "print(\"Specificity = %s\" %(tn/(tn+fp)))\n",
    "\n",
    "# model evaluation 3: precision & recall & F1_score\n",
    "print(classification_report(y_test, y_pred_rf))\n",
    "\n",
    "\n",
    "\n",
    "\n",
    "\n",
    "\n",
    "\n",
    "\n",
    "\n",
    "\n",
    "\n",
    "\n"
   ]
  },
  {
   "cell_type": "code",
   "execution_count": 16,
   "metadata": {},
   "outputs": [
    {
     "data": {
      "image/png": "[encoded data removed]",
      "text/plain": [
       "<Figure size 432x288 with 1 Axes>"
      ]
     },
     "metadata": {
      "needs_background": "light"
     },
     "output_type": "display_data"
    }
   ],
   "source": [
    "cmp = 0\n",
    "colors = ['b', 'g', 'y', 'm', 'k']\n",
    "for model, predicted in prediction.items():\n",
    "    false_positive_rate, true_positive_rate, thresholds = roc_curve(y_test, predicted)\n",
    "    roc_auc = auc(false_positive_rate, true_positive_rate)\n",
    "    plt.plot(false_positive_rate, true_positive_rate, colors[cmp], label='%s: AUC %0.2f'% (model,roc_auc))\n",
    "    cmp += 1\n",
    "\n",
    "plt.title('Classifiers comparaison with ROC')\n",
    "plt.legend(loc='lower right')\n",
    "plt.plot([0,1],[0,1],'r--')\n",
    "plt.xlim([-0.1,1.2])\n",
    "plt.ylim([-0.1,1.2])\n",
    "plt.ylabel('True Positive Rate')\n",
    "plt.xlabel('False Positive Rate')\n",
    "plt.show()"
   ]
  },
  {
   "cell_type": "markdown",
   "metadata": {},
   "source": [
    "After plotting the ROC curve, it would appear that the Logistic regression method provides us with the best results, although the AUC value for this method is not outstanding... \n",
    "\n",
    "Let's focus on logistic regression, and vizualise the accuracy, recall and confusion matrix of this model:"
   ]
  },
  {
   "cell_type": "markdown",
   "metadata": {},
   "source": [
    "# Import the tweets dataset\n",
    "In this part, we will use the model we selected to generate prediction for other user comments, for example, users' comments on AUFootball Fanpage."
   ]
  },
  {
   "cell_type": "code",
   "execution_count": 17,
   "metadata": {},
   "outputs": [
    {
     "data": {
      "text/html": [
       "<div>\n",
       "<style scoped>\n",
       "    .dataframe tbody tr th:only-of-type {\n",
       "        vertical-align: middle;\n",
       "    }\n",
       "\n",
       "    .dataframe tbody tr th {\n",
       "        vertical-align: top;\n",
       "    }\n",
       "\n",
       "    .dataframe thead th {\n",
       "        text-align: right;\n",
       "    }\n",
       "</style>\n",
       "<table border=\"1\" class=\"dataframe\">\n",
       "  <thead>\n",
       "    <tr style=\"text-align: right;\">\n",
       "      <th></th>\n",
       "      <th>user</th>\n",
       "      <th>fullname</th>\n",
       "      <th>tweet-id</th>\n",
       "      <th>timestamp</th>\n",
       "      <th>url</th>\n",
       "      <th>likes</th>\n",
       "      <th>replies</th>\n",
       "      <th>retweets</th>\n",
       "      <th>text</th>\n",
       "      <th>html</th>\n",
       "    </tr>\n",
       "  </thead>\n",
       "  <tbody>\n",
       "    <tr>\n",
       "      <td>0</td>\n",
       "      <td>Bjorn12650</td>\n",
       "      <td>Brian Olson</td>\n",
       "      <td>1162149919085359104</td>\n",
       "      <td>2019-08-15 23:51:47</td>\n",
       "      <td>/Bjorn12650/status/1162149919085359104</td>\n",
       "      <td>0</td>\n",
       "      <td>0</td>\n",
       "      <td>0</td>\n",
       "      <td>#WarEagle #HookEmHorns #OUSucks</td>\n",
       "      <td>&lt;p class=\"TweetTextSize js-tweet-text tweet-te...</td>\n",
       "    </tr>\n",
       "    <tr>\n",
       "      <td>1</td>\n",
       "      <td>WarEagle_Bands</td>\n",
       "      <td>War Eagle Bands</td>\n",
       "      <td>1162149186495832064</td>\n",
       "      <td>2019-08-15 23:48:52</td>\n",
       "      <td>/WarEagle_Bands/status/1162149186495832064</td>\n",
       "      <td>9</td>\n",
       "      <td>0</td>\n",
       "      <td>4</td>\n",
       "      <td>Donât get ready...stay ready!!pic.twitter.co...</td>\n",
       "      <td>&lt;p class=\"TweetTextSize js-tweet-text tweet-te...</td>\n",
       "    </tr>\n",
       "    <tr>\n",
       "      <td>2</td>\n",
       "      <td>AURobUSA</td>\n",
       "      <td>ðð¤ð¡ð¸ð« Â ð¯ Pixel Pusher!</td>\n",
       "      <td>1162146524073222144</td>\n",
       "      <td>2019-08-15 23:38:17</td>\n",
       "      <td>/AURobUSA/status/1162146524073222144</td>\n",
       "      <td>1</td>\n",
       "      <td>0</td>\n",
       "      <td>0</td>\n",
       "      <td>Thank you, I loved working on it! #WarEagle</td>\n",
       "      <td>&lt;p class=\"TweetTextSize js-tweet-text tweet-te...</td>\n",
       "    </tr>\n",
       "    <tr>\n",
       "      <td>3</td>\n",
       "      <td>AuBurntOrange</td>\n",
       "      <td>AuBurntOrange</td>\n",
       "      <td>1162145863776591872</td>\n",
       "      <td>2019-08-15 23:35:40</td>\n",
       "      <td>/AuBurntOrange/status/1162145863776591872</td>\n",
       "      <td>1</td>\n",
       "      <td>0</td>\n",
       "      <td>0</td>\n",
       "      <td>Good. Looking. Picture. \\r\\n#WarEagle https://...</td>\n",
       "      <td>&lt;p class=\"TweetTextSize js-tweet-text tweet-te...</td>\n",
       "    </tr>\n",
       "    <tr>\n",
       "      <td>4</td>\n",
       "      <td>AuburnU</td>\n",
       "      <td>Auburn University</td>\n",
       "      <td>1162140829504483328</td>\n",
       "      <td>2019-08-15 23:15:39</td>\n",
       "      <td>/AuburnU/status/1162140829504483328</td>\n",
       "      <td>32</td>\n",
       "      <td>0</td>\n",
       "      <td>3</td>\n",
       "      <td>#Auburn admission applications for 2020 terms ...</td>\n",
       "      <td>&lt;p class=\"TweetTextSize js-tweet-text tweet-te...</td>\n",
       "    </tr>\n",
       "  </tbody>\n",
       "</table>\n",
       "</div>"
      ],
      "text/plain": [
       "             user                                   fullname  \\\n",
       "0      Bjorn12650                                Brian Olson   \n",
       "1  WarEagle_Bands                            War Eagle Bands   \n",
       "2        AURobUSA  ðð¤ð¡ð¸ð« Â ð¯ Pixel Pusher!   \n",
       "3   AuBurntOrange                              AuBurntOrange   \n",
       "4         AuburnU                          Auburn University   \n",
       "\n",
       "              tweet-id            timestamp  \\\n",
       "0  1162149919085359104  2019-08-15 23:51:47   \n",
       "1  1162149186495832064  2019-08-15 23:48:52   \n",
       "2  1162146524073222144  2019-08-15 23:38:17   \n",
       "3  1162145863776591872  2019-08-15 23:35:40   \n",
       "4  1162140829504483328  2019-08-15 23:15:39   \n",
       "\n",
       "                                          url  likes  replies  retweets  \\\n",
       "0      /Bjorn12650/status/1162149919085359104      0        0         0   \n",
       "1  /WarEagle_Bands/status/1162149186495832064      9        0         4   \n",
       "2        /AURobUSA/status/1162146524073222144      1        0         0   \n",
       "3   /AuBurntOrange/status/1162145863776591872      1        0         0   \n",
       "4         /AuburnU/status/1162140829504483328     32        0         3   \n",
       "\n",
       "                                                text  \\\n",
       "0                    #WarEagle #HookEmHorns #OUSucks   \n",
       "1  Donât get ready...stay ready!!pic.twitter.co...   \n",
       "2        Thank you, I loved working on it! #WarEagle   \n",
       "3  Good. Looking. Picture. \\r\\n#WarEagle https://...   \n",
       "4  #Auburn admission applications for 2020 terms ...   \n",
       "\n",
       "                                                html  \n",
       "0  <p class=\"TweetTextSize js-tweet-text tweet-te...  \n",
       "1  <p class=\"TweetTextSize js-tweet-text tweet-te...  \n",
       "2  <p class=\"TweetTextSize js-tweet-text tweet-te...  \n",
       "3  <p class=\"TweetTextSize js-tweet-text tweet-te...  \n",
       "4  <p class=\"TweetTextSize js-tweet-text tweet-te...  "
      ]
     },
     "execution_count": 17,
     "metadata": {},
     "output_type": "execute_result"
    }
   ],
   "source": [
    "tweets = pd.read_csv('wetweets.csv', encoding = \"latin\")\n",
    "tweets.head()"
   ]
  },
  {
   "cell_type": "code",
   "execution_count": 18,
   "metadata": {},
   "outputs": [
    {
     "data": {
      "text/html": [
       "<div>\n",
       "<style scoped>\n",
       "    .dataframe tbody tr th:only-of-type {\n",
       "        vertical-align: middle;\n",
       "    }\n",
       "\n",
       "    .dataframe tbody tr th {\n",
       "        vertical-align: top;\n",
       "    }\n",
       "\n",
       "    .dataframe thead th {\n",
       "        text-align: right;\n",
       "    }\n",
       "</style>\n",
       "<table border=\"1\" class=\"dataframe\">\n",
       "  <thead>\n",
       "    <tr style=\"text-align: right;\">\n",
       "      <th></th>\n",
       "      <th>user</th>\n",
       "      <th>fullname</th>\n",
       "      <th>tweet-id</th>\n",
       "      <th>timestamp</th>\n",
       "      <th>url</th>\n",
       "      <th>likes</th>\n",
       "      <th>replies</th>\n",
       "      <th>retweets</th>\n",
       "      <th>text</th>\n",
       "    </tr>\n",
       "  </thead>\n",
       "  <tbody>\n",
       "    <tr>\n",
       "      <td>0</td>\n",
       "      <td>Bjorn12650</td>\n",
       "      <td>Brian Olson</td>\n",
       "      <td>1162149919085359104</td>\n",
       "      <td>2019-08-15 23:51:47</td>\n",
       "      <td>/Bjorn12650/status/1162149919085359104</td>\n",
       "      <td>0</td>\n",
       "      <td>0</td>\n",
       "      <td>0</td>\n",
       "      <td>#WarEagle #HookEmHorns #OUSucks</td>\n",
       "    </tr>\n",
       "    <tr>\n",
       "      <td>1</td>\n",
       "      <td>WarEagle_Bands</td>\n",
       "      <td>War Eagle Bands</td>\n",
       "      <td>1162149186495832064</td>\n",
       "      <td>2019-08-15 23:48:52</td>\n",
       "      <td>/WarEagle_Bands/status/1162149186495832064</td>\n",
       "      <td>9</td>\n",
       "      <td>0</td>\n",
       "      <td>4</td>\n",
       "      <td>Donât get ready...stay ready!!pic.twitter.co...</td>\n",
       "    </tr>\n",
       "    <tr>\n",
       "      <td>2</td>\n",
       "      <td>AURobUSA</td>\n",
       "      <td>ðð¤ð¡ð¸ð« Â ð¯ Pixel Pusher!</td>\n",
       "      <td>1162146524073222144</td>\n",
       "      <td>2019-08-15 23:38:17</td>\n",
       "      <td>/AURobUSA/status/1162146524073222144</td>\n",
       "      <td>1</td>\n",
       "      <td>0</td>\n",
       "      <td>0</td>\n",
       "      <td>Thank you, I loved working on it! #WarEagle</td>\n",
       "    </tr>\n",
       "    <tr>\n",
       "      <td>3</td>\n",
       "      <td>AuBurntOrange</td>\n",
       "      <td>AuBurntOrange</td>\n",
       "      <td>1162145863776591872</td>\n",
       "      <td>2019-08-15 23:35:40</td>\n",
       "      <td>/AuBurntOrange/status/1162145863776591872</td>\n",
       "      <td>1</td>\n",
       "      <td>0</td>\n",
       "      <td>0</td>\n",
       "      <td>Good. Looking. Picture. \\r\\n#WarEagle https://...</td>\n",
       "    </tr>\n",
       "    <tr>\n",
       "      <td>4</td>\n",
       "      <td>AuburnU</td>\n",
       "      <td>Auburn University</td>\n",
       "      <td>1162140829504483328</td>\n",
       "      <td>2019-08-15 23:15:39</td>\n",
       "      <td>/AuburnU/status/1162140829504483328</td>\n",
       "      <td>32</td>\n",
       "      <td>0</td>\n",
       "      <td>3</td>\n",
       "      <td>#Auburn admission applications for 2020 terms ...</td>\n",
       "    </tr>\n",
       "    <tr>\n",
       "      <td>...</td>\n",
       "      <td>...</td>\n",
       "      <td>...</td>\n",
       "      <td>...</td>\n",
       "      <td>...</td>\n",
       "      <td>...</td>\n",
       "      <td>...</td>\n",
       "      <td>...</td>\n",
       "      <td>...</td>\n",
       "      <td>...</td>\n",
       "    </tr>\n",
       "    <tr>\n",
       "      <td>49714</td>\n",
       "      <td>brianjstultz</td>\n",
       "      <td>Brian Stultz</td>\n",
       "      <td>1167588507520573442</td>\n",
       "      <td>2019-08-31 00:02:47</td>\n",
       "      <td>/brianjstultz/status/1167588507520573442</td>\n",
       "      <td>13</td>\n",
       "      <td>3</td>\n",
       "      <td>5</td>\n",
       "      <td>Wow. Just wow. #WarEagle https://twitter.com/A...</td>\n",
       "    </tr>\n",
       "    <tr>\n",
       "      <td>49715</td>\n",
       "      <td>tomriddle58</td>\n",
       "      <td>tomriddle</td>\n",
       "      <td>1167588208470679554</td>\n",
       "      <td>2019-08-31 00:01:36</td>\n",
       "      <td>/tomriddle58/status/1167588208470679554</td>\n",
       "      <td>0</td>\n",
       "      <td>0</td>\n",
       "      <td>0</td>\n",
       "      <td>#WAREAGLE https://www.instagram.com/p/B1zrgW1F...</td>\n",
       "    </tr>\n",
       "    <tr>\n",
       "      <td>49716</td>\n",
       "      <td>aucheerleading</td>\n",
       "      <td>Auburn Cheerleading</td>\n",
       "      <td>1167588137503285249</td>\n",
       "      <td>2019-08-31 00:01:19</td>\n",
       "      <td>/aucheerleading/status/1167588137503285249</td>\n",
       "      <td>26</td>\n",
       "      <td>1</td>\n",
       "      <td>2</td>\n",
       "      <td>#WarEagle from Auburn Arena! Letâs Go Auburn...</td>\n",
       "    </tr>\n",
       "    <tr>\n",
       "      <td>49717</td>\n",
       "      <td>Gibbs_Football</td>\n",
       "      <td>Gibbs Football</td>\n",
       "      <td>1167588071950508032</td>\n",
       "      <td>2019-08-31 00:01:03</td>\n",
       "      <td>/Gibbs_Football/status/1167588071950508032</td>\n",
       "      <td>11</td>\n",
       "      <td>0</td>\n",
       "      <td>0</td>\n",
       "      <td>Gibbs 14 Seymour 0. Barnes scores on a 6yd run...</td>\n",
       "    </tr>\n",
       "    <tr>\n",
       "      <td>49718</td>\n",
       "      <td>aucheerleading</td>\n",
       "      <td>Auburn Cheerleading</td>\n",
       "      <td>1167587970066657280</td>\n",
       "      <td>2019-08-31 00:00:39</td>\n",
       "      <td>/aucheerleading/status/1167587970066657280</td>\n",
       "      <td>31</td>\n",
       "      <td>0</td>\n",
       "      <td>4</td>\n",
       "      <td>Tex-Mex in TX! #WarEagle pic.twitter.com/zyPXA...</td>\n",
       "    </tr>\n",
       "  </tbody>\n",
       "</table>\n",
       "<p>49719 rows × 9 columns</p>\n",
       "</div>"
      ],
      "text/plain": [
       "                 user                                   fullname  \\\n",
       "0          Bjorn12650                                Brian Olson   \n",
       "1      WarEagle_Bands                            War Eagle Bands   \n",
       "2            AURobUSA  ðð¤ð¡ð¸ð« Â ð¯ Pixel Pusher!   \n",
       "3       AuBurntOrange                              AuBurntOrange   \n",
       "4             AuburnU                          Auburn University   \n",
       "...               ...                                        ...   \n",
       "49714    brianjstultz                               Brian Stultz   \n",
       "49715     tomriddle58                                  tomriddle   \n",
       "49716  aucheerleading                        Auburn Cheerleading   \n",
       "49717  Gibbs_Football                             Gibbs Football   \n",
       "49718  aucheerleading                        Auburn Cheerleading   \n",
       "\n",
       "                  tweet-id            timestamp  \\\n",
       "0      1162149919085359104  2019-08-15 23:51:47   \n",
       "1      1162149186495832064  2019-08-15 23:48:52   \n",
       "2      1162146524073222144  2019-08-15 23:38:17   \n",
       "3      1162145863776591872  2019-08-15 23:35:40   \n",
       "4      1162140829504483328  2019-08-15 23:15:39   \n",
       "...                    ...                  ...   \n",
       "49714  1167588507520573442  2019-08-31 00:02:47   \n",
       "49715  1167588208470679554  2019-08-31 00:01:36   \n",
       "49716  1167588137503285249  2019-08-31 00:01:19   \n",
       "49717  1167588071950508032  2019-08-31 00:01:03   \n",
       "49718  1167587970066657280  2019-08-31 00:00:39   \n",
       "\n",
       "                                              url  likes  replies  retweets  \\\n",
       "0          /Bjorn12650/status/1162149919085359104      0        0         0   \n",
       "1      /WarEagle_Bands/status/1162149186495832064      9        0         4   \n",
       "2            /AURobUSA/status/1162146524073222144      1        0         0   \n",
       "3       /AuBurntOrange/status/1162145863776591872      1        0         0   \n",
       "4             /AuburnU/status/1162140829504483328     32        0         3   \n",
       "...                                           ...    ...      ...       ...   \n",
       "49714    /brianjstultz/status/1167588507520573442     13        3         5   \n",
       "49715     /tomriddle58/status/1167588208470679554      0        0         0   \n",
       "49716  /aucheerleading/status/1167588137503285249     26        1         2   \n",
       "49717  /Gibbs_Football/status/1167588071950508032     11        0         0   \n",
       "49718  /aucheerleading/status/1167587970066657280     31        0         4   \n",
       "\n",
       "                                                    text  \n",
       "0                        #WarEagle #HookEmHorns #OUSucks  \n",
       "1      Donât get ready...stay ready!!pic.twitter.co...  \n",
       "2            Thank you, I loved working on it! #WarEagle  \n",
       "3      Good. Looking. Picture. \\r\\n#WarEagle https://...  \n",
       "4      #Auburn admission applications for 2020 terms ...  \n",
       "...                                                  ...  \n",
       "49714  Wow. Just wow. #WarEagle https://twitter.com/A...  \n",
       "49715  #WAREAGLE https://www.instagram.com/p/B1zrgW1F...  \n",
       "49716  #WarEagle from Auburn Arena! Letâs Go Auburn...  \n",
       "49717  Gibbs 14 Seymour 0. Barnes scores on a 6yd run...  \n",
       "49718  Tex-Mex in TX! #WarEagle pic.twitter.com/zyPXA...  \n",
       "\n",
       "[49719 rows x 9 columns]"
      ]
     },
     "execution_count": 18,
     "metadata": {},
     "output_type": "execute_result"
    }
   ],
   "source": [
    "tweets.drop(columns=['html'])"
   ]
  },
  {
   "cell_type": "code",
   "execution_count": 19,
   "metadata": {},
   "outputs": [],
   "source": [
    "message = tweets['text']"
   ]
  },
  {
   "cell_type": "code",
   "execution_count": 20,
   "metadata": {},
   "outputs": [],
   "source": [
    "# convert the text info into tfidf matrix\n",
    "corpus_2 = []\n",
    "for text in message:\n",
    "    text = str(text)\n",
    "    text = text.lower()\n",
    "    text = text.translate(trantab)\n",
    "    text=tokenize(text)\n",
    "    corpus_2.append(text)\n",
    "    \n",
    "X_new_counts2 = count_vect.transform(corpus_2)\n",
    "X_test_tfidf2 = tfidf_transformer.transform(X_new_counts2)"
   ]
  },
  {
   "cell_type": "code",
   "execution_count": 21,
   "metadata": {},
   "outputs": [],
   "source": [
    "tweets['positive'] = clt.predict(X_test_tfidf2)\n",
    "tweets['timestamp'] = pd.to_datetime(tweets['timestamp'])\n",
    "tweets['sentiment'] = ['positive' if x is 1 else 'negative' for x in tweets['positive']]"
   ]
  },
  {
   "cell_type": "code",
   "execution_count": 22,
   "metadata": {},
   "outputs": [
    {
     "data": {
      "text/html": [
       "<div>\n",
       "<style scoped>\n",
       "    .dataframe tbody tr th:only-of-type {\n",
       "        vertical-align: middle;\n",
       "    }\n",
       "\n",
       "    .dataframe tbody tr th {\n",
       "        vertical-align: top;\n",
       "    }\n",
       "\n",
       "    .dataframe thead th {\n",
       "        text-align: right;\n",
       "    }\n",
       "</style>\n",
       "<table border=\"1\" class=\"dataframe\">\n",
       "  <thead>\n",
       "    <tr style=\"text-align: right;\">\n",
       "      <th></th>\n",
       "      <th>user</th>\n",
       "      <th>fullname</th>\n",
       "      <th>tweet-id</th>\n",
       "      <th>timestamp</th>\n",
       "      <th>url</th>\n",
       "      <th>likes</th>\n",
       "      <th>replies</th>\n",
       "      <th>retweets</th>\n",
       "      <th>text</th>\n",
       "      <th>html</th>\n",
       "      <th>positive</th>\n",
       "      <th>sentiment</th>\n",
       "    </tr>\n",
       "  </thead>\n",
       "  <tbody>\n",
       "    <tr>\n",
       "      <td>0</td>\n",
       "      <td>Bjorn12650</td>\n",
       "      <td>Brian Olson</td>\n",
       "      <td>1162149919085359104</td>\n",
       "      <td>2019-08-15 23:51:47</td>\n",
       "      <td>/Bjorn12650/status/1162149919085359104</td>\n",
       "      <td>0</td>\n",
       "      <td>0</td>\n",
       "      <td>0</td>\n",
       "      <td>#WarEagle #HookEmHorns #OUSucks</td>\n",
       "      <td>&lt;p class=\"TweetTextSize js-tweet-text tweet-te...</td>\n",
       "      <td>1</td>\n",
       "      <td>positive</td>\n",
       "    </tr>\n",
       "    <tr>\n",
       "      <td>1</td>\n",
       "      <td>WarEagle_Bands</td>\n",
       "      <td>War Eagle Bands</td>\n",
       "      <td>1162149186495832064</td>\n",
       "      <td>2019-08-15 23:48:52</td>\n",
       "      <td>/WarEagle_Bands/status/1162149186495832064</td>\n",
       "      <td>9</td>\n",
       "      <td>0</td>\n",
       "      <td>4</td>\n",
       "      <td>Donât get ready...stay ready!!pic.twitter.co...</td>\n",
       "      <td>&lt;p class=\"TweetTextSize js-tweet-text tweet-te...</td>\n",
       "      <td>0</td>\n",
       "      <td>negative</td>\n",
       "    </tr>\n",
       "    <tr>\n",
       "      <td>2</td>\n",
       "      <td>AURobUSA</td>\n",
       "      <td>ðð¤ð¡ð¸ð« Â ð¯ Pixel Pusher!</td>\n",
       "      <td>1162146524073222144</td>\n",
       "      <td>2019-08-15 23:38:17</td>\n",
       "      <td>/AURobUSA/status/1162146524073222144</td>\n",
       "      <td>1</td>\n",
       "      <td>0</td>\n",
       "      <td>0</td>\n",
       "      <td>Thank you, I loved working on it! #WarEagle</td>\n",
       "      <td>&lt;p class=\"TweetTextSize js-tweet-text tweet-te...</td>\n",
       "      <td>1</td>\n",
       "      <td>positive</td>\n",
       "    </tr>\n",
       "    <tr>\n",
       "      <td>3</td>\n",
       "      <td>AuBurntOrange</td>\n",
       "      <td>AuBurntOrange</td>\n",
       "      <td>1162145863776591872</td>\n",
       "      <td>2019-08-15 23:35:40</td>\n",
       "      <td>/AuBurntOrange/status/1162145863776591872</td>\n",
       "      <td>1</td>\n",
       "      <td>0</td>\n",
       "      <td>0</td>\n",
       "      <td>Good. Looking. Picture. \\r\\n#WarEagle https://...</td>\n",
       "      <td>&lt;p class=\"TweetTextSize js-tweet-text tweet-te...</td>\n",
       "      <td>1</td>\n",
       "      <td>positive</td>\n",
       "    </tr>\n",
       "    <tr>\n",
       "      <td>4</td>\n",
       "      <td>AuburnU</td>\n",
       "      <td>Auburn University</td>\n",
       "      <td>1162140829504483328</td>\n",
       "      <td>2019-08-15 23:15:39</td>\n",
       "      <td>/AuburnU/status/1162140829504483328</td>\n",
       "      <td>32</td>\n",
       "      <td>0</td>\n",
       "      <td>3</td>\n",
       "      <td>#Auburn admission applications for 2020 terms ...</td>\n",
       "      <td>&lt;p class=\"TweetTextSize js-tweet-text tweet-te...</td>\n",
       "      <td>0</td>\n",
       "      <td>negative</td>\n",
       "    </tr>\n",
       "  </tbody>\n",
       "</table>\n",
       "</div>"
      ],
      "text/plain": [
       "             user                                   fullname  \\\n",
       "0      Bjorn12650                                Brian Olson   \n",
       "1  WarEagle_Bands                            War Eagle Bands   \n",
       "2        AURobUSA  ðð¤ð¡ð¸ð« Â ð¯ Pixel Pusher!   \n",
       "3   AuBurntOrange                              AuBurntOrange   \n",
       "4         AuburnU                          Auburn University   \n",
       "\n",
       "              tweet-id           timestamp  \\\n",
       "0  1162149919085359104 2019-08-15 23:51:47   \n",
       "1  1162149186495832064 2019-08-15 23:48:52   \n",
       "2  1162146524073222144 2019-08-15 23:38:17   \n",
       "3  1162145863776591872 2019-08-15 23:35:40   \n",
       "4  1162140829504483328 2019-08-15 23:15:39   \n",
       "\n",
       "                                          url  likes  replies  retweets  \\\n",
       "0      /Bjorn12650/status/1162149919085359104      0        0         0   \n",
       "1  /WarEagle_Bands/status/1162149186495832064      9        0         4   \n",
       "2        /AURobUSA/status/1162146524073222144      1        0         0   \n",
       "3   /AuBurntOrange/status/1162145863776591872      1        0         0   \n",
       "4         /AuburnU/status/1162140829504483328     32        0         3   \n",
       "\n",
       "                                                text  \\\n",
       "0                    #WarEagle #HookEmHorns #OUSucks   \n",
       "1  Donât get ready...stay ready!!pic.twitter.co...   \n",
       "2        Thank you, I loved working on it! #WarEagle   \n",
       "3  Good. Looking. Picture. \\r\\n#WarEagle https://...   \n",
       "4  #Auburn admission applications for 2020 terms ...   \n",
       "\n",
       "                                                html  positive sentiment  \n",
       "0  <p class=\"TweetTextSize js-tweet-text tweet-te...         1  positive  \n",
       "1  <p class=\"TweetTextSize js-tweet-text tweet-te...         0  negative  \n",
       "2  <p class=\"TweetTextSize js-tweet-text tweet-te...         1  positive  \n",
       "3  <p class=\"TweetTextSize js-tweet-text tweet-te...         1  positive  \n",
       "4  <p class=\"TweetTextSize js-tweet-text tweet-te...         0  negative  "
      ]
     },
     "execution_count": 22,
     "metadata": {},
     "output_type": "execute_result"
    }
   ],
   "source": [
    "tweets.head()"
   ]
  },
  {
   "cell_type": "code",
   "execution_count": 23,
   "metadata": {},
   "outputs": [],
   "source": [
    "y = []\n",
    "\n",
    "for x in tweets['timestamp']:\n",
    "    y.append(x.isocalendar()[1])\n",
    "\n",
    "tweets['week_number'] = y"
   ]
  },
  {
   "cell_type": "code",
   "execution_count": 24,
   "metadata": {},
   "outputs": [
    {
     "name": "stdout",
     "output_type": "stream",
     "text": [
      "[33 32 31 34 42 41 43 37 40 35 38 45 44 36 39]\n"
     ]
    }
   ],
   "source": [
    "print(tweets['week_number'].unique())"
   ]
  },
  {
   "cell_type": "code",
   "execution_count": 25,
   "metadata": {},
   "outputs": [
    {
     "name": "stdout",
     "output_type": "stream",
     "text": [
      "                                                text           timestamp  \\\n",
      "0                    #WarEagle #HookEmHorns #OUSucks 2019-08-15 23:51:47   \n",
      "1  Donât get ready...stay ready!!pic.twitter.co... 2019-08-15 23:48:52   \n",
      "2        Thank you, I loved working on it! #WarEagle 2019-08-15 23:38:17   \n",
      "3  Good. Looking. Picture. \\r\\n#WarEagle https://... 2019-08-15 23:35:40   \n",
      "4  #Auburn admission applications for 2020 terms ... 2019-08-15 23:15:39   \n",
      "5  Coach Steele: â5!!!!! 3!!!!! Canât sleep o... 2019-08-15 23:07:59   \n",
      "6  We came up a little short on our last night in... 2019-08-15 23:03:59   \n",
      "7  Man, looks like the #Eagles are the team to se... 2019-08-15 22:57:23   \n",
      "8                            How is #ColdBlood guys? 2019-08-15 22:55:53   \n",
      "9  Man, looks like the #Eagles are the team to se... 2019-08-15 22:55:46   \n",
      "\n",
      "  sentiment  \n",
      "0  positive  \n",
      "1  negative  \n",
      "2  positive  \n",
      "3  positive  \n",
      "4  negative  \n",
      "5  positive  \n",
      "6  negative  \n",
      "7  positive  \n",
      "8  positive  \n",
      "9  positive  \n"
     ]
    }
   ],
   "source": [
    "col = ['text', 'timestamp', 'sentiment']\n",
    "tweets = tweets[col]\n",
    "print(tweets.head(10))"
   ]
  },
  {
   "cell_type": "code",
   "execution_count": 26,
   "metadata": {},
   "outputs": [
    {
     "name": "stdout",
     "output_type": "stream",
     "text": [
      "                                                text           timestamp  \\\n",
      "0                    #WarEagle #HookEmHorns #OUSucks 2019-08-15 23:51:47   \n",
      "1  Donât get ready...stay ready!!pic.twitter.co... 2019-08-15 23:48:52   \n",
      "2        Thank you, I loved working on it! #WarEagle 2019-08-15 23:38:17   \n",
      "3  Good. Looking. Picture. \\r\\n#WarEagle https://... 2019-08-15 23:35:40   \n",
      "4  #Auburn admission applications for 2020 terms ... 2019-08-15 23:15:39   \n",
      "\n",
      "  sentiment  week_number  negative  positive  \n",
      "0  positive           33         0         1  \n",
      "1  negative           33         1         0  \n",
      "2  positive           33         0         1  \n",
      "3  positive           33         0         1  \n",
      "4  negative           33         1         0  \n"
     ]
    }
   ],
   "source": [
    "# convert from string to time\n",
    "\n",
    "tweets['timestamp'] = pd.to_datetime(tweets['timestamp'])\n",
    "week_number = []\n",
    "for t in tweets['timestamp']:\n",
    "    week_number.append(t.isocalendar()[1])\n",
    "\n",
    "tweets['week_number'] = week_number\n",
    "\n",
    "df3_senti = pd.get_dummies(tweets['sentiment'])\n",
    "tweets = pd.concat([tweets,df3_senti], axis=1)\n",
    "\n",
    "print(tweets.head())"
   ]
  },
  {
   "cell_type": "code",
   "execution_count": 27,
   "metadata": {},
   "outputs": [
    {
     "name": "stdout",
     "output_type": "stream",
     "text": [
      "             negative  positive\n",
      "week_number                    \n",
      "31              428.0     785.0\n",
      "32              721.0    1414.0\n",
      "33              584.0    1304.0\n",
      "34              653.0    1528.0\n",
      "35             1476.0    5290.0\n",
      "36              961.0    2621.0\n",
      "37              818.0    2138.0\n",
      "38             1045.0    3208.0\n",
      "39              988.0    3104.0\n",
      "40             1293.0    3487.0\n",
      "41              778.0    1619.0\n",
      "42              701.0    2017.0\n",
      "43              962.0    2644.0\n",
      "44              912.0    2492.0\n",
      "45             1243.0    2505.0\n"
     ]
    }
   ],
   "source": [
    "table = pd.pivot_table(tweets,index=['week_number'],aggfunc=np.sum)\n",
    "print(table)"
   ]
  },
  {
   "cell_type": "code",
   "execution_count": 28,
   "metadata": {},
   "outputs": [
    {
     "data": {
      "image/png": "[encoded data removed]",
      "text/plain": [
       "<Figure size 864x648 with 1 Axes>"
      ]
     },
     "metadata": {
      "needs_background": "light"
     },
     "output_type": "display_data"
    }
   ],
   "source": [
    "pos = table['positive'].values\n",
    "neg = table['negative'].values\n",
    "week_number = table.index\n",
    "\n",
    "fig_size = plt.rcParams[\"figure.figsize\"]\n",
    "fig_size[0] = 12\n",
    "fig_size[1] = 9\n",
    "width = 0.8\n",
    "\n",
    "p1 = plt.bar(week_number, pos, width, color='green',tick_label = week_number)\n",
    "p2 = plt.bar(week_number, neg, width, color='red', tick_label = week_number, bottom=pos)\n",
    "\n",
    "plt.ylabel('Total Comments by Week')\n",
    "plt.title('Comments by Sentiment')\n",
    "plt.xticks(week_number + width/2., ('Georgia','Vanderbilt','Ole Miss','Arkansas','Bye Week','Miss. St.','ULMonroe','LSU','Texas A&M','Ark. St.', 'Clemson'))\n",
    "plt.legend((p1[0], p2[0]), ('Positive', 'Negative'), bbox_to_anchor=(1.05, 1), loc=2, borderaxespad=0.)\n",
    "\n",
    "plt.show()"
   ]
  },
  {
   "cell_type": "code",
   "execution_count": 29,
   "metadata": {},
   "outputs": [],
   "source": [
    "#6 Describe the plot \n",
    "\n",
    "The plot is slightly skewed to the left. For each team, there were more positive comments then negative. \n",
    "The amount of negative comments look to be roughly similar for teams like Vanderbilt, Ole Miss, and Arkansas. \n",
    "LSU and Texas A&M are very close as well. Overall, there were more positive tweets than negative. \n",
    "Bye week has the most tweets; Georiga has the least.\n",
    "The comprehensive sentiment is positive for each team, and had a weaker negative association.\n",
    "\n",
    "\n"
   ]
  }
 ],
 "metadata": {
  "kernelspec": {
   "display_name": "Python 3",
   "language": "python",
   "name": "python3"
  },
  "language_info": {
   "codemirror_mode": {
    "name": "ipython",
    "version": 3
   },
   "file_extension": ".py",
   "mimetype": "text/x-python",
   "name": "python",
   "nbconvert_exporter": "python",
   "pygments_lexer": "ipython3",
   "version": "3.6.8"
  }
 },
 "nbformat": 4,
 "nbformat_minor": 1
}
